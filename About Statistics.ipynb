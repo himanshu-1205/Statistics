{
 "cells": [
  {
   "cell_type": "markdown",
   "metadata": {},
   "source": [
    "# Statistics\n",
    "    It is a group of methods used to collect, classify, analyse, present and interpret data and to make decision\n",
    "    \n",
    "    There are two types of statistics:-\n",
    "    \n",
    "    1. Descriptive Statistics\n",
    "    2. Inferential Statistics\n",
    "    \n",
    "    Descriptive Statistics (What is or what the data shows):- It consist of method for organizing, displaying, and describing data by using tables, graphs, and summary measures. It summarizes data from a sample using indexes such as mean or standard deviation. It is used or most often concerned with two set of properties:-\n",
    "    1. Centeral Tendency:- It is used to describe the set of data by identifying the centeral position with in set that set of data.\n",
    "    2. Dispersion:- It chracterizes the extent to which members of the distribution depart from its center and each other.\n",
    "    \n",
    "    Inferential Statistics:- it consist of methods that use sample results to help make decision or prediction about a population. It draws conclusion from data that are subject to random variation(it cannot be eliminated or determined. it is due to eratic and irregular action of random choice.\n",
    "    \n",
    "    "
   ]
  },
  {
   "cell_type": "markdown",
   "metadata": {},
   "source": [
    "   "
   ]
  }
 ],
 "metadata": {
  "kernelspec": {
   "display_name": "Python 3",
   "language": "python",
   "name": "python3"
  },
  "language_info": {
   "codemirror_mode": {
    "name": "ipython",
    "version": 3
   },
   "file_extension": ".py",
   "mimetype": "text/x-python",
   "name": "python",
   "nbconvert_exporter": "python",
   "pygments_lexer": "ipython3",
   "version": "3.8.5"
  }
 },
 "nbformat": 4,
 "nbformat_minor": 4
}
