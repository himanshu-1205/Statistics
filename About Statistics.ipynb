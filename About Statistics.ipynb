{
 "cells": [
  {
   "cell_type": "markdown",
   "metadata": {},
   "source": [
    "# Statistics\n",
    "    It is a group of methods used to collect, classify, analyse, present and interpret data and to make decision\n",
    "    \n",
    "    There are two types of statistics:-\n",
    "    \n",
    "    1. Descriptive Statistics\n",
    "    2. Inferential Statistics\n",
    "    \n",
    "    Descriptive Statistics (What is or what the data shows):- It consist of method for organizing, displaying, and describing data by using tables, graphs, and summary measures. It summarizes data from a sample using indexes such as mean or standard deviation. It is used or most often concerned with two set of properties:-\n",
    "    1. Centeral Tendency:- It is used to describe the set of data by identifying the centeral position with in set that set of data.\n",
    "    2. Dispersion:- It chracterizes the extent to which members of the distribution depart from its center and each other.\n",
    "    \n",
    "    Inferential Statistics:- it consist of methods that use sample results to help make decision or prediction about a population. It draws conclusion from data that are subject to random variation(it cannot be eliminated or determined. it is due to eratic and irregular action of random choice.\n",
    "    \n",
    "    "
   ]
  },
  {
   "cell_type": "markdown",
   "metadata": {},
   "source": [
    "### Sampling of Dataset"
   ]
  },
  {
   "cell_type": "code",
   "execution_count": 15,
   "metadata": {},
   "outputs": [
    {
     "ename": "TypeError",
     "evalue": "read_csv() missing 1 required positional argument: 'filepath_or_buffer'",
     "output_type": "error",
     "traceback": [
      "\u001b[0;31m---------------------------------------------------------------------------\u001b[0m",
      "\u001b[0;31mTypeError\u001b[0m                                 Traceback (most recent call last)",
      "\u001b[0;32m<ipython-input-15-57d5ad902139>\u001b[0m in \u001b[0;36m<module>\u001b[0;34m\u001b[0m\n\u001b[1;32m      2\u001b[0m \u001b[0;34m\u001b[0m\u001b[0m\n\u001b[1;32m      3\u001b[0m \u001b[0;31m# making data frame from csv file\u001b[0m\u001b[0;34m\u001b[0m\u001b[0;34m\u001b[0m\u001b[0;34m\u001b[0m\u001b[0m\n\u001b[0;32m----> 4\u001b[0;31m \u001b[0mdata\u001b[0m \u001b[0;34m=\u001b[0m \u001b[0mpd\u001b[0m\u001b[0;34m.\u001b[0m\u001b[0mread_csv\u001b[0m\u001b[0;34m(\u001b[0m\u001b[0;34m)\u001b[0m\u001b[0;34m\u001b[0m\u001b[0;34m\u001b[0m\u001b[0m\n\u001b[0m\u001b[1;32m      5\u001b[0m \u001b[0;34m\u001b[0m\u001b[0m\n\u001b[1;32m      6\u001b[0m \u001b[0;31m# generating one Random row\u001b[0m\u001b[0;34m\u001b[0m\u001b[0;34m\u001b[0m\u001b[0;34m\u001b[0m\u001b[0m\n",
      "\u001b[0;31mTypeError\u001b[0m: read_csv() missing 1 required positional argument: 'filepath_or_buffer'"
     ]
    }
   ],
   "source": [
    "import pandas as pd \n",
    "  \n",
    "# making data frame from csv file  \n",
    "data = pd.read_csv(\"empl\") \n",
    "  \n",
    "# generating one Random row  \n",
    "row1 = data.sample(n = 1)\n",
    "\n",
    "# generating 100 random rows  \n",
    "row2 = data.sample(n = 100)"
   ]
  },
  {
   "cell_type": "code",
   "execution_count": null,
   "metadata": {},
   "outputs": [],
   "source": []
  }
 ],
 "metadata": {
  "kernelspec": {
   "display_name": "Python 3",
   "language": "python",
   "name": "python3"
  },
  "language_info": {
   "codemirror_mode": {
    "name": "ipython",
    "version": 3
   },
   "file_extension": ".py",
   "mimetype": "text/x-python",
   "name": "python",
   "nbconvert_exporter": "python",
   "pygments_lexer": "ipython3",
   "version": "3.8.5"
  }
 },
 "nbformat": 4,
 "nbformat_minor": 4
}
