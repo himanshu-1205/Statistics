{
 "cells": [
  {
   "cell_type": "markdown",
   "metadata": {},
   "source": [
    "# Data Visualization\n",
    "    Data visualization is the graphical representation of information and data. By using visual elements like charts, graphs, and maps, data visualization tools provide an accessible way to see and understand trends, outliers, and patterns in data.\n",
    "\n",
    "    In the world of Big Data, data visualization tools and technologies are essential to analyze massive amounts of information and make data-driven decisions."
   ]
  },
  {
   "cell_type": "markdown",
   "metadata": {},
   "source": [
    "### Common general types of data visualization:\n",
    "1. Charts\n",
    "2. Tables\n",
    "3. Graphs\n",
    "4. Maps\n",
    "5. Infographics\n",
    "6. Dashboards"
   ]
  },
  {
   "cell_type": "markdown",
   "metadata": {},
   "source": [
    "### More specific examples of methods to visualize data:\n",
    "\n",
    "1. Area Chart\n",
    "2. Bar Chart\n",
    "2. Segmented Bar Graph\n",
    "2. Column Graph\n",
    "2. Frequency graph or frequency table\\\n",
    "2. Cumulative Frequency Table\n",
    "2. Frequency polygon\n",
    "2. Line Graph\n",
    "2. Timeplot\n",
    "2. Relative Frequency Histogram\n",
    "2. Stemplot\n",
    "2. Funnel Chart\n",
    "3. Box-and-whisker Plots\n",
    "4. Bubble Cloud\n",
    "5. Bullet Graph\n",
    "6. Cartogram\n",
    "7. Circle View\n",
    "8. Dot Distribution Map\n",
    "9. Gantt Chart\n",
    "10. Heat Map\n",
    "11. Highlight Table\n",
    "12. Histogram\n",
    "14. Matrix\n",
    "15. Network\n",
    "16. Polar Area\n",
    "17. Radial Tree\n",
    "18. Scatter Plot (2D or 3D)\n",
    "19. Streamgraph\n",
    "20. Text Tables\n",
    "21. Timeline\n",
    "22. Treemap\n",
    "23. Wedge Stack Graph\n",
    "24. Word Cloud"
   ]
  },
  {
   "cell_type": "code",
   "execution_count": null,
   "metadata": {},
   "outputs": [],
   "source": []
  }
 ],
 "metadata": {
  "kernelspec": {
   "display_name": "Python 3",
   "language": "python",
   "name": "python3"
  },
  "language_info": {
   "codemirror_mode": {
    "name": "ipython",
    "version": 3
   },
   "file_extension": ".py",
   "mimetype": "text/x-python",
   "name": "python",
   "nbconvert_exporter": "python",
   "pygments_lexer": "ipython3",
   "version": "3.8.6"
  }
 },
 "nbformat": 4,
 "nbformat_minor": 4
}
