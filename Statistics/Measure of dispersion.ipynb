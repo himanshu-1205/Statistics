{
 "cells": [
  {
   "cell_type": "markdown",
   "metadata": {},
   "source": [
    "# Measure of Dispersion or Variability\n",
    "1. Variability describes how far apart data points lie from each other and from the center of a distribution. Along with measures of central tendency, measures of variability give you descriptive statistics that summarize your data.\n",
    "\n",
    "2. Variability is also referred to as spread, scatter or dispersion\n",
    "\n",
    "3. Dispersion or spread is the degree of scatter or variation of the variable about a centeral value.\n",
    "    \n",
    "4. Degree to which numerical data tend to spread about an average value is called  variation or dispersion of data.\n",
    "\n",
    "### Objective of Dispersion\n",
    "\n",
    "1. To judge the reliablity of measure of centeral tendency- if Variability is more than mean is not representative of the series then median is best.\n",
    "2. To make a comparative study of variability of the two series.\n",
    "3. To identify the causes of variability with a view to control it.\n",
    "\n",
    "### The Following measure of dispersion\n",
    "\n",
    "1. Range\n",
    "2. Interquartile range\n",
    "3. Semi-interquartile range or quartile deviation\n",
    "4. Average deviation or mean deviation\n",
    "5. Standard deviation or root mean square deviation from arithmatic mean\n",
    "6. Lorenz curve\n",
    "\n",
    "#### Why does variability matter?\n",
    "While the central tendency, or average, tells you where most of your points lie, variability summarizes how far apart they are. This is important because it tells you whether the points tend to be clustered around the center or more widely spread out.\n",
    "\n",
    "Low variability is ideal because it means that you can better predict information about the population based on sample data. High variability means that the values are less consistent, so it’s harder to make predictions.\n",
    "\n",
    "Data sets can have the same central tendency but different levels of variability or vice versa. If you know only the central tendency or the variability, you can’t say anything about the other aspect. Both of them together give you a complete picture of your data.\n",
    "\n"
   ]
  },
  {
   "cell_type": "markdown",
   "metadata": {},
   "source": [
    "### Range\n",
    "\n",
    "    The range tells you the spread of your data from the lowest to the highest value in the distribution. It’s the easiest measure of variability to calculate.\n",
    "\n",
    "    To find the range, simply subtract the lowest value from the highest value in the data set.\n",
    "\n",
    "###### Range example\n",
    "    You have 8 data points from Sample A.\n",
    "    Data (minutes)\t72\t110\t134\t190\t238\t287\t305\t324\n",
    "    \n",
    "    The highest value (H) is 324 and the lowest (L) is 72.\n",
    "\n",
    "    R = H – L\n",
    "\n",
    "    R = 324 – 72 = 252\n",
    "\n",
    "    The range of your data is 252 minutes."
   ]
  },
  {
   "cell_type": "code",
   "execution_count": 3,
   "metadata": {},
   "outputs": [
    {
     "name": "stdout",
     "output_type": "stream",
     "text": [
      "252\n"
     ]
    }
   ],
   "source": [
    "a= [72, 110, 134, 190, 238, 287, 305, 324]\n",
    "range = max(a) - min(a)\n",
    "print(range)"
   ]
  },
  {
   "cell_type": "markdown",
   "metadata": {},
   "source": [
    "###### Advantage of Range\n",
    "1. Range is easily calcualted and readily understood."
   ]
  },
  {
   "cell_type": "markdown",
   "metadata": {},
   "source": [
    "###### Disadvantage of Range\n",
    "1. It is affected by fluctuation of sampling.\n",
    "2. It is not based on all the observation of the series.\n",
    "3. It cannot be used in the case of open-end distribution."
   ]
  },
  {
   "cell_type": "markdown",
   "metadata": {},
   "source": [
    "###### Uses of Range\n",
    "1. Quality control for ex. Nutbold example.\n",
    "2. Variation in money rate, share values, gold prices etc.\n",
    "3. Weather forecasting."
   ]
  },
  {
   "attachments": {
    "iqr.png": {
     "image/png": "[encoded data removed]"
    }
   },
   "cell_type": "markdown",
   "metadata": {},
   "source": [
    "### Interquartile Range\n",
    "\n",
    "The interquartile range gives you the spread of the middle of your distribution. OR It is a measure of where the \"Middle fifty\" in a dataset.\n",
    "\n",
    "For any distribution that’s ordered from low to high, the interquartile range contains half of the values. While the first quartile (Q1) contains the first 25% of values, the fourth quartile (Q4) contains the last 25% of values.\n",
    "\n",
    "The interquartile range is the third quartile (Q3) minus the first quartile (Q1). This gives us the range of the middle half of a data set.\n",
    "\n",
    "    IQR = Q3 - Q1\n",
    "    \n",
    "![iqr.png](attachment:iqr.png)"
   ]
  },
  {
   "cell_type": "markdown",
   "metadata": {},
   "source": [
    "###### Note:- \n",
    "1. IQR measures the centeral tendency and spread, respectively but are robust agaibst outliers and non normal data.\n",
    "2. The IQR tells how spread out the middle values are. It can also be used to tell when some of the other values are \"too far\" from the centeral value(outliers).\n"
   ]
  },
  {
   "cell_type": "code",
   "execution_count": 4,
   "metadata": {},
   "outputs": [
    {
     "name": "stdout",
     "output_type": "stream",
     "text": [
      "34.0\n"
     ]
    }
   ],
   "source": [
    "from scipy import stats \n",
    "  \n",
    "data = [32, 36, 46, 47, 56, 69, 75, 79, 79, 88, 89, 91, 92, 93, 96, 97,  \n",
    "        101, 105, 112, 116] \n",
    "  \n",
    "# Interquartile range (IQR) \n",
    "IQR = stats.iqr(data, interpolation = 'midpoint') \n",
    "  \n",
    "print(IQR) "
   ]
  },
  {
   "cell_type": "markdown",
   "metadata": {},
   "source": [
    "### Semi-Interquartile Range\n",
    "It is a midpoint of IQR i.e it is half of the difference between third quartile and first quartile. It is also called quartile deviation.\n",
    "\n",
    "    Semi IQR = (Q3 - Q1) /2\n",
    "   \n",
    "###### Note:- \n",
    "1. It is a good measure of spread of skewed distribution because it tell that how much data is varied from centeral data(i.e mean and median)"
   ]
  },
  {
   "cell_type": "code",
   "execution_count": 6,
   "metadata": {},
   "outputs": [
    {
     "data": {
      "text/plain": [
       "17.0"
      ]
     },
     "execution_count": 6,
     "metadata": {},
     "output_type": "execute_result"
    }
   ],
   "source": [
    "semi_iqr = IQR / 2\n",
    "semi_iqr"
   ]
  },
  {
   "attachments": {
    "population-standard-deviation-formula-2.png": {
     "image/png": "[encoded data removed]"
    }
   },
   "cell_type": "markdown",
   "metadata": {},
   "source": [
    "### Standard Deviation\n",
    "The standard deviation is the average amount of variability in your dataset.\n",
    "\n",
    "    It tells you, on average, how far each score lies from the mean. The larger the standard deviation, the more variable the data set is.\n",
    "    \n",
    "###### Uses\n",
    "1. It is commonly used to measure confidence in statistical calculations. For example, the margin of error in calculating marks of an exam is determined by calculating the expected standard deviation in the results if the same exam were to be conducted multiple times.\n",
    "2. It is very useful in the field of financial studies as well as it helps to determine the margin of profit and loss. The standard deviation is also important, where the standard deviation on the rate of return on an investment is a measure of the volatility of the investment.\n",
    "\n",
    "###### There are six steps for finding the standard deviation by hand:\n",
    "\n",
    "1. List each score and find their mean.\n",
    "2. Subtract the mean from each score to get the deviation from the mean.\n",
    "3. Square each of these deviations.\n",
    "4. Add up all of the squared deviations.\n",
    "5. Divide the sum of the squared deviations by n – 1 (for a sample) or N (for a population).\n",
    "6. Find the square root of the number you found.\n",
    "\n",
    "###### Standard deviation formula for populations\n",
    "If you have data from the entire population, use the population standard deviation formula:\n",
    "\n",
    "![population-standard-deviation-formula-2.png](attachment:population-standard-deviation-formula-2.png)\n",
    "\n",
    "where, \n",
    "\n",
    "    σ = population standard deviation\n",
    "    ∑ = sum of…\n",
    "    X = each value\n",
    "    μ = population mean\n",
    "    N = number of values in the population"
   ]
  },
  {
   "attachments": {
    "sample-standard-deviation-formula-2.png": {
     "image/png": "[encoded data removed]"
    }
   },
   "cell_type": "markdown",
   "metadata": {},
   "source": [
    "###### Standard deviation formula for samples\n",
    "If you have data from a sample, use the sample standard deviation formula:\n",
    "\n",
    "![sample-standard-deviation-formula-2.png](attachment:sample-standard-deviation-formula-2.png)\n",
    "\n",
    "where,\n",
    "\n",
    "    s = sample standard deviation\n",
    "    ∑ = sum of…\n",
    "    X = each value\n",
    "    x̅ = sample mean\n",
    "    n = number of values in the sample\n"
   ]
  },
  {
   "cell_type": "markdown",
   "metadata": {},
   "source": [
    "#### Why use n – 1 for sample standard deviation?\n",
    "Samples are used to make statistical inferences about the population that they came from.\n",
    "\n",
    "When you have population data, you can get an exact value for population standard deviation. Since you collect data from every population member, the standard deviation reflects the precise amount of variability in your distribution, the population.\n",
    "\n",
    "But when you use sample data, your sample standard deviation is always used as an estimate of the population standard deviation. Using n in this formula tends to give you a biased estimate that consistently underestimates variability.\n",
    "\n",
    "Reducing the sample n to n – 1 makes the standard deviation artificially large, giving you a conservative estimate of variability.\n",
    "\n",
    "While this is not an unbiased estimate, it is a less biased estimate of standard deviation: it is better to overestimate rather than underestimate variability in samples.\n",
    "\n",
    "The difference between biased and conservative estimates of standard deviation gets much smaller when you have a large sample size."
   ]
  },
  {
   "cell_type": "code",
   "execution_count": 7,
   "metadata": {},
   "outputs": [
    {
     "name": "stdout",
     "output_type": "stream",
     "text": [
      "0.9035079029052513\n"
     ]
    }
   ],
   "source": [
    "import numpy\n",
    "\n",
    "speed = [86,87,88,86,87,85,86]\n",
    "\n",
    "x = numpy.std(speed)\n",
    "\n",
    "print(x)"
   ]
  },
  {
   "cell_type": "code",
   "execution_count": 9,
   "metadata": {},
   "outputs": [
    {
     "name": "stdout",
     "output_type": "stream",
     "text": [
      "Standard Deviation of sample is 0.9759000729485332 \n"
     ]
    }
   ],
   "source": [
    "import statistics \n",
    "  \n",
    "# creating a simple data - set \n",
    "sample = [86,87,88,86,87,85,86]\n",
    "  \n",
    "# Prints standard deviation \n",
    "# xbar is set to default value of 1 \n",
    "print(\"Standard Deviation of sample is % s \" \n",
    "                % (statistics.stdev(sample))) "
   ]
  },
  {
   "attachments": {
    "population-variance-formula.png": {
     "image/png": "[encoded data removed]"
    }
   },
   "cell_type": "markdown",
   "metadata": {},
   "source": [
    "### Variance\n",
    "The variance is the average of squared deviations from the mean. A deviation from the mean is how far a score lies from the mean.\n",
    "\n",
    "Variance is the square of the standard deviation. This means that the units of variance are much larger than those of a typical value of a data set.\n",
    "\n",
    "While it’s harder to interpret the variance number intuitively, it’s important to calculate variance for comparing different data sets in statistical tests like ANOVAs.\n",
    "\n",
    "Variance reflects the degree of spread in the data set. The more spread the data, the larger the variance is in relation to the mean.\n",
    "\n",
    "###### Variance formula for populations\n",
    "![population-variance-formula.png](attachment:population-variance-formula.png)\n",
    "\n",
    "where,\n",
    "\n",
    "    σ2 = population variance\n",
    "    Σ = sum of…\n",
    "    Χ = each value\n",
    "    μ = population mean\n",
    "    Ν = number of values in the population\n"
   ]
  },
  {
   "attachments": {
    "sample-variance-formula.png": {
     "image/png": "[encoded data removed]"
    }
   },
   "cell_type": "markdown",
   "metadata": {},
   "source": [
    "###### Variance formula for samples\n",
    "\n",
    "![sample-variance-formula.png](attachment:sample-variance-formula.png)\n",
    "\n",
    "where,\n",
    "\n",
    "    s2 = sample variance\n",
    "    Σ = sum of…\n",
    "    Χ = each value\n",
    "    x̄ = sample mean\n",
    "    n = number of values in the sample"
   ]
  },
  {
   "cell_type": "code",
   "execution_count": 10,
   "metadata": {},
   "outputs": [
    {
     "name": "stdout",
     "output_type": "stream",
     "text": [
      "Variance of sample set is 0.40924\n"
     ]
    }
   ],
   "source": [
    "import statistics \n",
    "  \n",
    "# Creating a sample of data \n",
    "sample = [2.74, 1.23, 2.63, 2.22, 3, 1.98] \n",
    "  \n",
    "# Prints variance of the sample set \n",
    "  \n",
    "# Function will automatically calculate \n",
    "# it's mean and set it as xbar \n",
    "print(\"Variance of sample set is % s\" \n",
    "      %(statistics.variance(sample))) "
   ]
  },
  {
   "cell_type": "code",
   "execution_count": 11,
   "metadata": {},
   "outputs": [
    {
     "name": "stdout",
     "output_type": "stream",
     "text": [
      "arr :  [2.74, 1.23, 2.63, 2.22, 3, 1.98]\n",
      "var of arr :  0.34103333333333335\n"
     ]
    }
   ],
   "source": [
    "import numpy as np  \n",
    "      \n",
    "# 1D array  \n",
    "arr = [2.74, 1.23, 2.63, 2.22, 3, 1.98] \n",
    "  \n",
    "print(\"arr : \", arr)  \n",
    "print(\"var of arr : \", np.var(arr)) "
   ]
  },
  {
   "cell_type": "code",
   "execution_count": null,
   "metadata": {},
   "outputs": [],
   "source": []
  }
 ],
 "metadata": {
  "kernelspec": {
   "display_name": "Python 3",
   "language": "python",
   "name": "python3"
  },
  "language_info": {
   "codemirror_mode": {
    "name": "ipython",
    "version": 3
   },
   "file_extension": ".py",
   "mimetype": "text/x-python",
   "name": "python",
   "nbconvert_exporter": "python",
   "pygments_lexer": "ipython3",
   "version": "3.8.6"
  }
 },
 "nbformat": 4,
 "nbformat_minor": 4
}
